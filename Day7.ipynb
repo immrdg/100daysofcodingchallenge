{
 "cells": [
  {
   "cell_type": "markdown",
   "id": "confirmed-midnight",
   "metadata": {},
   "source": [
    "<h1 style=\"color:#5d1d51\">Day 7 of #100daysofcodingchallenge </h1><br>\n",
    "Date:17-01-2021<br>"
   ]
  },
  {
   "cell_type": "markdown",
   "id": "normal-slovakia",
   "metadata": {},
   "source": [
    "# MORE ABOUT STRINGS OPERATORS AND METHODS"
   ]
  },
  {
   "cell_type": "markdown",
   "id": "inner-exchange",
   "metadata": {},
   "source": [
    "<b>1)capitalize()</b>"
   ]
  },
  {
   "cell_type": "code",
   "execution_count": 1,
   "id": "processed-sector",
   "metadata": {},
   "outputs": [
    {
     "data": {
      "text/plain": [
       "'Gireesh'"
      ]
     },
     "execution_count": 1,
     "metadata": {},
     "output_type": "execute_result"
    }
   ],
   "source": [
    "s='gireesh'\n",
    "s.capitalize() #returns a copy of str s with the first letter capitalized"
   ]
  },
  {
   "cell_type": "code",
   "execution_count": 3,
   "id": "monetary-single",
   "metadata": {},
   "outputs": [
    {
     "data": {
      "text/plain": [
       "'Gireesh'"
      ]
     },
     "execution_count": 3,
     "metadata": {},
     "output_type": "execute_result"
    }
   ],
   "source": [
    "s.title() #works same as capitalize()"
   ]
  },
  {
   "cell_type": "markdown",
   "id": "altered-keeping",
   "metadata": {},
   "source": [
    "<b>2)center(width,char)</b>"
   ]
  },
  {
   "cell_type": "code",
   "execution_count": 5,
   "id": "saved-drove",
   "metadata": {},
   "outputs": [
    {
     "data": {
      "text/plain": [
       "'      gireesh       '"
      ]
     },
     "execution_count": 5,
     "metadata": {},
     "output_type": "execute_result"
    }
   ],
   "source": [
    "s.center(20) #Returns a copy of s centered in a string of length width padded with spaces or optionally with char"
   ]
  },
  {
   "cell_type": "code",
   "execution_count": 6,
   "id": "virtual-answer",
   "metadata": {},
   "outputs": [
    {
     "data": {
      "text/plain": [
       "'$$gireesh$$$'"
      ]
     },
     "execution_count": 6,
     "metadata": {},
     "output_type": "execute_result"
    }
   ],
   "source": [
    "s.center(12,'$')"
   ]
  },
  {
   "cell_type": "markdown",
   "id": "actual-parallel",
   "metadata": {},
   "source": [
    "<b>3)count(t,start, end)</b><br>\n",
    "Returns the number of occurrences of str t in str s (or in the start:end slice of s)"
   ]
  },
  {
   "cell_type": "code",
   "execution_count": 7,
   "id": "outer-atlantic",
   "metadata": {},
   "outputs": [
    {
     "data": {
      "text/plain": [
       "1"
      ]
     },
     "execution_count": 7,
     "metadata": {},
     "output_type": "execute_result"
    }
   ],
   "source": [
    "s.count('ee') #ee as whole"
   ]
  },
  {
   "cell_type": "code",
   "execution_count": 8,
   "id": "located-mineral",
   "metadata": {},
   "outputs": [
    {
     "data": {
      "text/plain": [
       "2"
      ]
     },
     "execution_count": 8,
     "metadata": {},
     "output_type": "execute_result"
    }
   ],
   "source": [
    "s.count('e') #every e counts "
   ]
  },
  {
   "cell_type": "code",
   "execution_count": 9,
   "id": "secure-orchestra",
   "metadata": {},
   "outputs": [
    {
     "data": {
      "text/plain": [
       "1"
      ]
     },
     "execution_count": 9,
     "metadata": {},
     "output_type": "execute_result"
    }
   ],
   "source": [
    "s.count('e',4) #provided with start index here it is 4 so it counts e in  'esh' "
   ]
  },
  {
   "cell_type": "code",
   "execution_count": 11,
   "id": "streaming-poison",
   "metadata": {},
   "outputs": [
    {
     "data": {
      "text/plain": [
       "1"
      ]
     },
     "execution_count": 11,
     "metadata": {},
     "output_type": "execute_result"
    }
   ],
   "source": [
    "'ramaramarama'.count('r',1,8) #so it slices from 1 to 8 i.e.,'amarama'"
   ]
  },
  {
   "cell_type": "code",
   "execution_count": 13,
   "id": "exterior-roads",
   "metadata": {},
   "outputs": [
    {
     "data": {
      "text/plain": [
       "2"
      ]
     },
     "execution_count": 13,
     "metadata": {},
     "output_type": "execute_result"
    }
   ],
   "source": [
    "'ramaramarama'.count('amar')"
   ]
  },
  {
   "cell_type": "markdown",
   "id": "applicable-puzzle",
   "metadata": {},
   "source": [
    "<b>4)isalnum()</b><br>\n",
    "Returns True if s is nonempty and every character in s\n",
    "is alphanumeric"
   ]
  },
  {
   "cell_type": "code",
   "execution_count": 14,
   "id": "relevant-footwear",
   "metadata": {},
   "outputs": [
    {
     "data": {
      "text/plain": [
       "True"
      ]
     },
     "execution_count": 14,
     "metadata": {},
     "output_type": "execute_result"
    }
   ],
   "source": [
    "#it should not contain any special characters\n",
    "'coiding'.isalnum()"
   ]
  },
  {
   "cell_type": "code",
   "execution_count": 15,
   "id": "olive-yahoo",
   "metadata": {},
   "outputs": [
    {
     "data": {
      "text/plain": [
       "True"
      ]
     },
     "execution_count": 15,
     "metadata": {},
     "output_type": "execute_result"
    }
   ],
   "source": [
    "'coiding123'.isalnum() #along with numbers"
   ]
  },
  {
   "cell_type": "code",
   "execution_count": 16,
   "id": "given-warehouse",
   "metadata": {},
   "outputs": [
    {
     "data": {
      "text/plain": [
       "False"
      ]
     },
     "execution_count": 16,
     "metadata": {},
     "output_type": "execute_result"
    }
   ],
   "source": [
    "'coiding@123'.isalnum() #but along with special characters"
   ]
  },
  {
   "cell_type": "markdown",
   "id": "physical-metropolitan",
   "metadata": {},
   "source": [
    "<b>5)isalpha() </b><br>\n",
    "Returns True if s is nonempty and every character in s\n",
    "is alphabetic"
   ]
  },
  {
   "cell_type": "code",
   "execution_count": 17,
   "id": "welsh-vault",
   "metadata": {},
   "outputs": [
    {
     "data": {
      "text/plain": [
       "True"
      ]
     },
     "execution_count": 17,
     "metadata": {},
     "output_type": "execute_result"
    }
   ],
   "source": [
    "'coiding'.isalpha() #everything is alphabets"
   ]
  },
  {
   "cell_type": "code",
   "execution_count": 18,
   "id": "exclusive-interstate",
   "metadata": {},
   "outputs": [
    {
     "data": {
      "text/plain": [
       "False"
      ]
     },
     "execution_count": 18,
     "metadata": {},
     "output_type": "execute_result"
    }
   ],
   "source": [
    "'coiding21'.isalpha() #with numbers"
   ]
  },
  {
   "cell_type": "code",
   "execution_count": 19,
   "id": "round-minutes",
   "metadata": {},
   "outputs": [
    {
     "data": {
      "text/plain": [
       "False"
      ]
     },
     "execution_count": 19,
     "metadata": {},
     "output_type": "execute_result"
    }
   ],
   "source": [
    "'coiding@'.isalpha() #with special characters"
   ]
  },
  {
   "cell_type": "markdown",
   "id": "handed-wesley",
   "metadata": {},
   "source": [
    "<b>6)isdecimal() </b><br>\n",
    "Returns True if s is nonempty and every character in s is\n",
    "a Unicode base 10 digit"
   ]
  },
  {
   "cell_type": "code",
   "execution_count": 20,
   "id": "infrared-australian",
   "metadata": {},
   "outputs": [
    {
     "data": {
      "text/plain": [
       "False"
      ]
     },
     "execution_count": 20,
     "metadata": {},
     "output_type": "execute_result"
    }
   ],
   "source": [
    "'code'.isdecimal()"
   ]
  },
  {
   "cell_type": "code",
   "execution_count": 21,
   "id": "novel-lyric",
   "metadata": {},
   "outputs": [
    {
     "data": {
      "text/plain": [
       "False"
      ]
     },
     "execution_count": 21,
     "metadata": {},
     "output_type": "execute_result"
    }
   ],
   "source": [
    "'code12'.isdecimal()"
   ]
  },
  {
   "cell_type": "code",
   "execution_count": 22,
   "id": "upset-permission",
   "metadata": {},
   "outputs": [
    {
     "data": {
      "text/plain": [
       "False"
      ]
     },
     "execution_count": 22,
     "metadata": {},
     "output_type": "execute_result"
    }
   ],
   "source": [
    "'@12'.isdecimal()"
   ]
  },
  {
   "cell_type": "code",
   "execution_count": 23,
   "id": "informative-citizen",
   "metadata": {},
   "outputs": [
    {
     "data": {
      "text/plain": [
       "True"
      ]
     },
     "execution_count": 23,
     "metadata": {},
     "output_type": "execute_result"
    }
   ],
   "source": [
    "'123467777'.isdecimal()"
   ]
  },
  {
   "cell_type": "markdown",
   "id": "recorded-white",
   "metadata": {},
   "source": [
    "# STRING FORMATTING"
   ]
  },
  {
   "cell_type": "code",
   "execution_count": 24,
   "id": "vulnerable-wound",
   "metadata": {},
   "outputs": [
    {
     "name": "stdout",
     "output_type": "stream",
     "text": [
      "my friend name is lavanya her age is 20\n"
     ]
    }
   ],
   "source": [
    "name='lavanya'\n",
    "age=20\n",
    "print('my friend name is '+name+' her age is '+str(age))"
   ]
  },
  {
   "cell_type": "code",
   "execution_count": 25,
   "id": "diverse-siemens",
   "metadata": {},
   "outputs": [
    {
     "name": "stdout",
     "output_type": "stream",
     "text": [
      "my friend name is lavanya her age is 20\n"
     ]
    }
   ],
   "source": [
    "#its really hard right to concatanating , changing it to str.. so formatting string makes it easy using format()\n",
    "print('my friend name is {} her age is {}'.format(name,age))"
   ]
  },
  {
   "cell_type": "code",
   "execution_count": 28,
   "id": "above-paris",
   "metadata": {},
   "outputs": [],
   "source": [
    "#easy right \n",
    "x='crazy'\n",
    "a='{}{}'\n",
    "a=a.format('I am ',x)"
   ]
  },
  {
   "cell_type": "code",
   "execution_count": 29,
   "id": "recognized-timing",
   "metadata": {},
   "outputs": [
    {
     "data": {
      "text/plain": [
       "'I am crazy'"
      ]
     },
     "execution_count": 29,
     "metadata": {},
     "output_type": "execute_result"
    }
   ],
   "source": [
    "a"
   ]
  },
  {
   "cell_type": "code",
   "execution_count": 30,
   "id": "adequate-supply",
   "metadata": {},
   "outputs": [
    {
     "name": "stdout",
     "output_type": "stream",
     "text": [
      "my friend name is gv and her age is 19\n"
     ]
    }
   ],
   "source": [
    "print('my friend name is {Name} and her age is {Age}'.format(Name='gv',Age='19'))"
   ]
  },
  {
   "cell_type": "code",
   "execution_count": 31,
   "id": "deadly-profile",
   "metadata": {},
   "outputs": [
    {
     "name": "stdout",
     "output_type": "stream",
     "text": [
      "my friend name is gv and her age is 18\n"
     ]
    }
   ],
   "source": [
    "print('my friend name is {Name} and her age is {Age}'.format(Name='gv',Age=18))"
   ]
  },
  {
   "cell_type": "code",
   "execution_count": 32,
   "id": "earned-racing",
   "metadata": {},
   "outputs": [
    {
     "name": "stdout",
     "output_type": "stream",
     "text": [
      "my friend name is lavanya her age is 20\n"
     ]
    }
   ],
   "source": [
    "print(f'my friend name is {name} her age is {age}') #putting f infront of string"
   ]
  }
 ],
 "metadata": {
  "kernelspec": {
   "display_name": "Python 3",
   "language": "python",
   "name": "python3"
  },
  "language_info": {
   "codemirror_mode": {
    "name": "ipython",
    "version": 3
   },
   "file_extension": ".py",
   "mimetype": "text/x-python",
   "name": "python",
   "nbconvert_exporter": "python",
   "pygments_lexer": "ipython3",
   "version": "3.8.3"
  }
 },
 "nbformat": 4,
 "nbformat_minor": 5
}
