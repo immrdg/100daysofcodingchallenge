{
 "cells": [
  {
   "cell_type": "markdown",
   "metadata": {},
   "source": [
    "\n",
    "<h1 style=\"color:red\">Day 4 of #100daysofcodingchallenge </h1><br>\n",
    "Date:14-01-2021<br>"
   ]
  },
  {
   "cell_type": "markdown",
   "metadata": {},
   "source": [
    "# More About Python Data Types"
   ]
  },
  {
   "cell_type": "markdown",
   "metadata": {},
   "source": [
    "<img src=\"https://i.imgur.com/k6DqMnd.jpg\">"
   ]
  },
  {
   "cell_type": "code",
   "execution_count": 3,
   "metadata": {},
   "outputs": [
    {
     "name": "stdout",
     "output_type": "stream",
     "text": [
      "a: 827  ---> <class 'int'>\n",
      "b: 23.47  ---> <class 'float'>\n",
      "c: True  ---> <class 'bool'>\n",
      "d: (8+9j)  ---> <class 'complex'>\n",
      "e: Hell0  ---> <class 'str'>\n",
      "f: [1, 2, 3, 4, 5, 6, 7]  ---> <class 'list'>\n",
      "g: (1, 2, 3, 4, 5, 6, 7)  ---> <class 'tuple'>\n",
      "h: {'P', 'e', 'l', 'm', ' ', 'n', 'o', 'y', 'c', 'W', 'h', 't'}  ---> <class 'set'>\n",
      "i: {'a': 'I', 'b': 'Like', 'c': 'Python', 'd': 'Programming'}  ---> <class 'dict'>\n"
     ]
    }
   ],
   "source": [
    "a=827 \n",
    "b= 23.47 \n",
    "c = True\n",
    "d = 8 + 9j \n",
    "e = \"Hell0\" \n",
    "f=[1, 2,3,4, 5,6,7]\n",
    "g=(1,2,3,4,5,6, 7) \n",
    "h = set (\"Welcome to Python\") \n",
    "i={'a':'I', 'b':'Like','c':'Python','d':'Programming'} \n",
    "print (\"a:\",a, \" --->\",type (a)) \n",
    "print (\"b:\",b, \" --->\",type (b)) \n",
    "print (\"c:\",c, \" --->\",type (c))\n",
    "print (\"d:\",d, \" --->\",type (d))\n",
    "print (\"e:\",e, \" --->\",type (e))\n",
    "print (\"f:\",f, \" --->\",type (f))\n",
    "print (\"g:\",g, \" --->\",type (g))\n",
    "print (\"h:\",h, \" --->\",type (h))\n",
    "print (\"i:\",i, \" --->\",type (i))"
   ]
  },
  {
   "cell_type": "code",
   "execution_count": 4,
   "metadata": {},
   "outputs": [],
   "source": [
    "#lists,sets,dicts will be discussed later "
   ]
  },
  {
   "cell_type": "markdown",
   "metadata": {},
   "source": [
    "## Python Literals"
   ]
  },
  {
   "cell_type": "markdown",
   "metadata": {},
   "source": [
    "#### <pre>   -->1)Numeric Literals</pre>\n",
    "<p><pre>         They consist of digits(0-9) with an optional(+ or -) possible a decimal point</pre> </p> "
   ]
  },
  {
   "cell_type": "code",
   "execution_count": 6,
   "metadata": {},
   "outputs": [],
   "source": [
    "#example 1,-1,420,-360"
   ]
  },
  {
   "cell_type": "markdown",
   "metadata": {},
   "source": [
    "#### <pre>   -->1.1)Floating Point Literals</pre>\n"
   ]
  },
  {
   "cell_type": "code",
   "execution_count": 7,
   "metadata": {},
   "outputs": [],
   "source": [
    "#example -1.0.2.7.234.456"
   ]
  },
  {
   "cell_type": "markdown",
   "metadata": {},
   "source": [
    "<h1>String Literals</h1>\n",
    "<p>They Represent a group of characters.They May be enclosed in a single quote or double quote</p>"
   ]
  },
  {
   "cell_type": "code",
   "execution_count": 8,
   "metadata": {},
   "outputs": [
    {
     "name": "stdout",
     "output_type": "stream",
     "text": [
      "True\n"
     ]
    }
   ],
   "source": [
    "#example\n",
    "a=\"immrdg\" #enclosed in double quotes\n",
    "b='immrdg' #enclosed in single quotes\n",
    "print(a==b)"
   ]
  },
  {
   "cell_type": "code",
   "execution_count": 9,
   "metadata": {},
   "outputs": [],
   "source": [
    "#there is no difference between single and double quotes in python\n"
   ]
  },
  {
   "cell_type": "markdown",
   "metadata": {},
   "source": [
    "<p>The quotes surrounding a string are called <b><u>delimiters</u></b> because they\n",
    "tell Python where a string begins and where it ends. When one type of\n",
    "quotes is used as the delimiter, the other type can be used inside the\n",
    "string:</p>"
   ]
  },
  {
   "cell_type": "code",
   "execution_count": 22,
   "metadata": {},
   "outputs": [
    {
     "name": "stdout",
     "output_type": "stream",
     "text": [
      "we're coders\n",
      "i said \"i love coding\"\n"
     ]
    }
   ],
   "source": [
    "str1=\"we're coders\"\n",
    "str2='i said \"i love coding\"'\n",
    "print(str1)\n",
    "print(str2)"
   ]
  },
  {
   "cell_type": "code",
   "execution_count": 23,
   "metadata": {},
   "outputs": [
    {
     "ename": "SyntaxError",
     "evalue": "invalid syntax (<ipython-input-23-f2aee332e5b6>, line 1)",
     "output_type": "error",
     "traceback": [
      "\u001b[1;36m  File \u001b[1;32m\"<ipython-input-23-f2aee332e5b6>\"\u001b[1;36m, line \u001b[1;32m1\u001b[0m\n\u001b[1;33m    st3=\"i said,\"i love coding\"\"\u001b[0m\n\u001b[1;37m                 ^\u001b[0m\n\u001b[1;31mSyntaxError\u001b[0m\u001b[1;31m:\u001b[0m invalid syntax\n"
     ]
    }
   ],
   "source": [
    "st3=\"i said,\"i love coding\"\""
   ]
  },
  {
   "cell_type": "markdown",
   "metadata": {},
   "source": [
    "<pre><p style=\"color:red;font-size:18px;\">Python throws a SyntaxError because it thinks the string ends after the\n",
    "second \", and it doesn’t know how to interpret the rest of the line. If\n",
    "you need to include a quotation mark that matches the delimiter in-\n",
    "side a string, then you can escape the character using a backslash: </p></pre>"
   ]
  },
  {
   "cell_type": "code",
   "execution_count": 25,
   "metadata": {},
   "outputs": [
    {
     "name": "stdout",
     "output_type": "stream",
     "text": [
      "i said,\"i love coding\"\n"
     ]
    }
   ],
   "source": [
    "st3=\"i said,\\\"i love coding\\\"\"\n",
    "print(st3)"
   ]
  },
  {
   "cell_type": "markdown",
   "metadata": {},
   "source": [
    "### Determine Length Of A String"
   ]
  },
  {
   "cell_type": "code",
   "execution_count": 29,
   "metadata": {},
   "outputs": [
    {
     "name": "stdout",
     "output_type": "stream",
     "text": [
      "len of--> i said,\"i love coding\" <--is 22\n"
     ]
    }
   ],
   "source": [
    "print(\"len of-->\",st3,\"<--is\",len(st3))"
   ]
  },
  {
   "cell_type": "markdown",
   "metadata": {},
   "source": [
    "## String Concatenation\n",
    "<p style=\"color:darkblue;font-size:20px;\">You can combine, or concatenate, two strings using the + operator:</p>"
   ]
  },
  {
   "cell_type": "code",
   "execution_count": 32,
   "metadata": {},
   "outputs": [
    {
     "name": "stdout",
     "output_type": "stream",
     "text": [
      "pycoders\n",
      "@gmail.com\n",
      "pycoders@gmail.com\n"
     ]
    }
   ],
   "source": [
    "s1=\"pycoders\"\n",
    "s2=\"@gmail.com\"\n",
    "print(s1)\n",
    "print(s2)\n",
    "print(s1+s2)"
   ]
  },
  {
   "cell_type": "markdown",
   "metadata": {},
   "source": [
    "## String Indexing\n",
    "<p><pre style=\"color:darkblue;font-size:20px;\">Each character in a string has a numbered position called an index.\n",
    "You can access the character at the nth position by putting the number\n",
    "n between two square brackets <b style=\"color:red;font-size:20px;\">([])</b> immediately after the string:</pre></p>"
   ]
  },
  {
   "cell_type": "code",
   "execution_count": 34,
   "metadata": {},
   "outputs": [
    {
     "name": "stdout",
     "output_type": "stream",
     "text": [
      "y\n"
     ]
    }
   ],
   "source": [
    "print(s1[1])"
   ]
  },
  {
   "cell_type": "markdown",
   "metadata": {},
   "source": [
    "\n",
    "<p><pre style=\"color:green;font-size:18px;\">s1[1] returns the character at position 1 in \"pycoders\", which is y.\n",
    "\n",
    "Wait. Isn’t p the first character of \"pycoders\"?\n",
    "\n",
    "In Python—and in most other programming languages—counting always starts at zero. \n",
    "To get the character at the beginning of a string,\n",
    "you need to access the character at position 0:</pre></p>"
   ]
  },
  {
   "cell_type": "code",
   "execution_count": 36,
   "metadata": {},
   "outputs": [
    {
     "name": "stdout",
     "output_type": "stream",
     "text": [
      "p\n"
     ]
    }
   ],
   "source": [
    "print(s1[0])"
   ]
  },
  {
   "cell_type": "markdown",
   "metadata": {},
   "source": [
    "<p><pre style=\"color:green;font-size:18px;\">The following figure shows the index for each character of the string\n",
    "\"pycoders\":\n",
    "---------------------------------\n",
    "<b style=\"color:red;font-size:18px;\">| p | y | c | o | d | e | r | s |</b>\n",
    "---------------------------------\n",
    "<b style=\"color:navy;font-size:18px;\">  0   1   2   3   4   5   6   7</b></pre></p>"
   ]
  },
  {
   "cell_type": "markdown",
   "metadata": {},
   "source": [
    "<p style=\"color:blue;font-size:18px;\">If you try to access an index beyond the end of a string, then Python\n",
    "    raises an <i style=\"color:red;\">IndexError</i>:</p>"
   ]
  },
  {
   "cell_type": "code",
   "execution_count": 37,
   "metadata": {},
   "outputs": [
    {
     "ename": "IndexError",
     "evalue": "string index out of range",
     "output_type": "error",
     "traceback": [
      "\u001b[1;31m---------------------------------------------------------------------------\u001b[0m",
      "\u001b[1;31mIndexError\u001b[0m                                Traceback (most recent call last)",
      "\u001b[1;32m<ipython-input-37-3a2be754d22f>\u001b[0m in \u001b[0;36m<module>\u001b[1;34m\u001b[0m\n\u001b[1;32m----> 1\u001b[1;33m \u001b[0mprint\u001b[0m\u001b[1;33m(\u001b[0m\u001b[0ms1\u001b[0m\u001b[1;33m[\u001b[0m\u001b[1;36m8\u001b[0m\u001b[1;33m]\u001b[0m\u001b[1;33m)\u001b[0m\u001b[1;33m\u001b[0m\u001b[1;33m\u001b[0m\u001b[0m\n\u001b[0m",
      "\u001b[1;31mIndexError\u001b[0m: string index out of range"
     ]
    }
   ],
   "source": [
    "print(s1[8])"
   ]
  },
  {
   "cell_type": "markdown",
   "metadata": {},
   "source": [
    "<p><pre style=\"color:indigo;font-size:18px;\">The largest index in a string is always one less than the string’s length.\n",
    "Since \"pycoders\" has a length of eight, the largest index allowed is 7.</pre></p>"
   ]
  },
  {
   "cell_type": "markdown",
   "metadata": {},
   "source": [
    "<p><pre style=\"color:green;font-size:18px;\">The following figure shows the negative index for each character of the string\n",
    "\"pycoders\":\n",
    "---------------------------------\n",
    "<b style=\"color:red;font-size:18px;\">| p | y | c | o | d | e | r | s |</b>\n",
    "---------------------------------\n",
    "<b style=\"color:navy;font-size:18px;\"> -8  -7  -6  -5  -4  -3  -2  -1</b></pre></p>"
   ]
  },
  {
   "cell_type": "markdown",
   "metadata": {},
   "source": [
    "<p style=\"color:navy;font-size:25px;\">Just like with positive indices, Python raises an IndexError if you try to\n",
    "access a negative index less than the index of the first character in the\n",
    "string:</p>"
   ]
  },
  {
   "cell_type": "code",
   "execution_count": 38,
   "metadata": {},
   "outputs": [
    {
     "data": {
      "text/plain": [
       "'c'"
      ]
     },
     "execution_count": 38,
     "metadata": {},
     "output_type": "execute_result"
    }
   ],
   "source": [
    "s1[-6]"
   ]
  },
  {
   "cell_type": "code",
   "execution_count": 39,
   "metadata": {},
   "outputs": [
    {
     "ename": "IndexError",
     "evalue": "string index out of range",
     "output_type": "error",
     "traceback": [
      "\u001b[1;31m---------------------------------------------------------------------------\u001b[0m",
      "\u001b[1;31mIndexError\u001b[0m                                Traceback (most recent call last)",
      "\u001b[1;32m<ipython-input-39-b5708125b3b9>\u001b[0m in \u001b[0;36m<module>\u001b[1;34m\u001b[0m\n\u001b[1;32m----> 1\u001b[1;33m \u001b[0ms1\u001b[0m\u001b[1;33m[\u001b[0m\u001b[1;33m-\u001b[0m\u001b[1;36m9\u001b[0m\u001b[1;33m]\u001b[0m\u001b[1;33m\u001b[0m\u001b[1;33m\u001b[0m\u001b[0m\n\u001b[0m",
      "\u001b[1;31mIndexError\u001b[0m: string index out of range"
     ]
    }
   ],
   "source": [
    "s1[-9]"
   ]
  },
  {
   "cell_type": "markdown",
   "metadata": {},
   "source": [
    "## more about string in next day"
   ]
  },
  {
   "cell_type": "markdown",
   "metadata": {},
   "source": [
    "<h1 style=\"color:navy\">End Of Day4</h1>\n",
    "<h3><pre style=\"color:darkgreen;\">          ---- D GIREESH @dg <pre></h3>"
   ]
  },
  {
   "cell_type": "code",
   "execution_count": null,
   "metadata": {},
   "outputs": [],
   "source": []
  }
 ],
 "metadata": {
  "kernelspec": {
   "display_name": "Python 3",
   "language": "python",
   "name": "python3"
  },
  "language_info": {
   "codemirror_mode": {
    "name": "ipython",
    "version": 3
   },
   "file_extension": ".py",
   "mimetype": "text/x-python",
   "name": "python",
   "nbconvert_exporter": "python",
   "pygments_lexer": "ipython3",
   "version": "3.8.3"
  }
 },
 "nbformat": 4,
 "nbformat_minor": 4
}
