{
 "cells": [
  {
   "cell_type": "markdown",
   "id": "defensive-fellow",
   "metadata": {},
   "source": [
    "<h1 style=\"color:red\">Day 5 of #100daysofcodingchallenge </h1><br>\n",
    "Date:15-01-2021<br>"
   ]
  },
  {
   "cell_type": "code",
   "execution_count": 2,
   "id": "beautiful-degree",
   "metadata": {},
   "outputs": [],
   "source": [
    "#Let us assume a string \n",
    "str1=\"pycoders\""
   ]
  },
  {
   "cell_type": "markdown",
   "id": "multiple-arizona",
   "metadata": {},
   "source": [
    "# String Slicing"
   ]
  },
  {
   "cell_type": "markdown",
   "id": "minor-concentrate",
   "metadata": {},
   "source": [
    "### ROLL BACK TO INDEXING TOPIC\n",
    "<p><pre style=\"color:green;font-size:18px;\">The following figure shows the index for each character of the string\n",
    "\"pycoders\":\n",
    "---------------------------------\n",
    "<b style=\"color:red;font-size:18px;\">| p | y | c | o | d | e | r | s |</b>\n",
    "---------------------------------\n",
    "<b style=\"color:navy;font-size:18px;\">  0   1   2   3   4   5   6   7 ---->positive indexing</b>\n",
    "<b style=\"color:navy;font-size:18px;\"> -8  -7  -6  -5  -4  -3  -2  -1 ---->negative indexing</b></pre></p>"
   ]
  },
  {
   "cell_type": "markdown",
   "id": "elect-torture",
   "metadata": {},
   "source": [
    "<p><pre style=\"font-size:18px;color:midnightblue\">Suppose you need a string containing just the first two letters of the \n",
    "string \"pycoders\". You could access each character by index and con- \n",
    "catenate them like this:</pre></p>"
   ]
  },
  {
   "cell_type": "code",
   "execution_count": 4,
   "id": "material-bride",
   "metadata": {},
   "outputs": [
    {
     "data": {
      "text/plain": [
       "'py'"
      ]
     },
     "execution_count": 4,
     "metadata": {},
     "output_type": "execute_result"
    }
   ],
   "source": [
    "str1[0]+str1[1]"
   ]
  },
  {
   "cell_type": "markdown",
   "id": "toxic-width",
   "metadata": {},
   "source": [
    "<p><pre style=\"font-size:16px;color:navy\">\n",
    "If you need more than just the first few letters of a string, \n",
    "then getting each character individually and concatenating them together is clumsy and long-winded.\n",
    "Fortunately, Python provides a way to do this with much less typing.</pre></p>"
   ]
  },
  {
   "cell_type": "markdown",
   "id": "decreased-operation",
   "metadata": {},
   "source": [
    "<p><pre style=\"font-size:16px;color:olive\">You can extract a portion of a string, called a substring, by inserting \n",
    "a colon between two index numbers set inside square brackets like this:</pre></p>"
   ]
  },
  {
   "cell_type": "code",
   "execution_count": 5,
   "id": "pretty-halifax",
   "metadata": {},
   "outputs": [
    {
     "data": {
      "text/plain": [
       "'py'"
      ]
     },
     "execution_count": 5,
     "metadata": {},
     "output_type": "execute_result"
    }
   ],
   "source": [
    "str1[0:2]"
   ]
  },
  {
   "cell_type": "markdown",
   "id": "impressive-indicator",
   "metadata": {},
   "source": [
    "<p><pre style=\"font-size:16px;color:darkmagenta\"><i>str1[0:2]</i> returns the first two characters of the string assigned to \n",
    "str1, starting with the character at index 0 and going up to but not in- \n",
    "cluding the character at index 2. The [0:2] part of str1[0:2] is called \n",
    "a slice. In this case, it returns a slice of \"pycoders\".</pre></p>"
   ]
  },
  {
   "cell_type": "markdown",
   "id": "unsigned-monaco",
   "metadata": {},
   "source": [
    "<p><pre style=\"font-size:16px;color:red\">The substring returned by the slice includes the character whose index is the first number \n",
    "but doesn’t include the character whose index is the second number</pre></p>"
   ]
  },
  {
   "cell_type": "markdown",
   "id": "committed-briefing",
   "metadata": {},
   "source": [
    "<p><pre style=\"font-size:16px;color:slateblue\">If you omit the first index in a slice, then Python assumes you want to \n",
    "start at index 0:</pre></p>"
   ]
  },
  {
   "cell_type": "code",
   "execution_count": 6,
   "id": "reported-subscriber",
   "metadata": {},
   "outputs": [
    {
     "data": {
      "text/plain": [
       "'pycod'"
      ]
     },
     "execution_count": 6,
     "metadata": {},
     "output_type": "execute_result"
    }
   ],
   "source": [
    "str1[:5]"
   ]
  },
  {
   "cell_type": "markdown",
   "id": "atlantic-cartridge",
   "metadata": {},
   "source": [
    "<p><pre style=\"font-size:16px;color:slateblue\">The slice [:5] is equivalent to the slice [0:5], so str1[:3] returns the \n",
    "first five characters in the string \"pycoders\".</pre></p>"
   ]
  },
  {
   "cell_type": "code",
   "execution_count": 11,
   "id": "optimum-layout",
   "metadata": {},
   "outputs": [
    {
     "data": {
      "text/plain": [
       "'ers'"
      ]
     },
     "execution_count": 11,
     "metadata": {},
     "output_type": "execute_result"
    }
   ],
   "source": [
    "str1[5:]"
   ]
  },
  {
   "cell_type": "markdown",
   "id": "reliable-tooth",
   "metadata": {},
   "source": [
    "<p><pre style=\"font-size:16px;color:slateblue\">The slice [5:] is equivalent to the slice [5:8], so str1[5:] returns the \n",
    "last three characters in the string \"pycoders\".</pre></p>"
   ]
  },
  {
   "cell_type": "markdown",
   "id": "played-kansas",
   "metadata": {},
   "source": [
    "<b><pre style=\"font-size:16px;color:darkcyan\"> If you omit both the first and second numbers in a slice, you get a\n",
    "string that starts with the character at index 0 and ends with the last\n",
    "character. In other words, omitting both numbers in a slice returns\n",
    "the entire string:</pre></p>"
   ]
  },
  {
   "cell_type": "code",
   "execution_count": 12,
   "id": "plain-strand",
   "metadata": {},
   "outputs": [
    {
     "data": {
      "text/plain": [
       "'pycoders'"
      ]
     },
     "execution_count": 12,
     "metadata": {},
     "output_type": "execute_result"
    }
   ],
   "source": [
    "str1[:]"
   ]
  },
  {
   "cell_type": "markdown",
   "id": "blind-philadelphia",
   "metadata": {},
   "source": [
    "<b><p><pre style=\"font-size:16px;color:red\">It’s important to note that, unlike with string indexing, Python won’t\n",
    "raise an IndexError when you try to slice between boundaries that fall\n",
    "outside the beginning or ending boundaries of a string:</pre></p><b>"
   ]
  },
  {
   "cell_type": "code",
   "execution_count": 15,
   "id": "needed-creek",
   "metadata": {},
   "outputs": [
    {
     "data": {
      "text/plain": [
       "'pycoders'"
      ]
     },
     "execution_count": 15,
     "metadata": {},
     "output_type": "execute_result"
    }
   ],
   "source": [
    "str1[:12]  #example1"
   ]
  },
  {
   "cell_type": "code",
   "execution_count": 16,
   "id": "bronze-aquarium",
   "metadata": {},
   "outputs": [
    {
     "data": {
      "text/plain": [
       "''"
      ]
     },
     "execution_count": 16,
     "metadata": {},
     "output_type": "execute_result"
    }
   ],
   "source": [
    "str1[13:15] #example2"
   ]
  },
  {
   "cell_type": "markdown",
   "id": "protecting-banana",
   "metadata": {},
   "source": [
    "<b><pre style=\"font-size:16px;color:mediumorchid\">In #example1 it gets the slice from the beginning of the\n",
    "string up to but not including the 12th character. The string\n",
    "assigned to str1 has a length of eight, so you might expect Python\n",
    "to throw an error. Instead, it ignores any nonexistent indices and re-\n",
    "turns the entire string \"pycoders\".</pre><b>"
   ]
  },
  {
   "cell_type": "markdown",
   "id": "harmful-muscle",
   "metadata": {},
   "source": [
    "<b><pre style=\"font-size:16px;color:#26538d\">#example2 shows what happens when you try to get a slice in which\n",
    "the entire range is out of bounds. str1[13:15] attempts to get the\n",
    "thirteenth and fourteenth characters, which don’t exist. Instead of\n",
    "raising an error, Python returns the empty string (\"\").</pre><b>"
   ]
  },
  {
   "cell_type": "markdown",
   "id": "aerial-provider",
   "metadata": {},
   "source": [
    "<b><pre style=\"font-size:16px;color:#042e60\">You can use negative numbers in slices. The rules for slices with nega-\n",
    "tive numbers are exactly the same as the rules for slices with positive\n",
    "numbers. It helps to visualize the string as slots with the boundaries\n",
    "labeled with negative numbers: <u style=\"font-size:16px;color:#0165fc\">look at the third cell</u></pre><b>"
   ]
  },
  {
   "cell_type": "code",
   "execution_count": 17,
   "id": "endangered-scout",
   "metadata": {},
   "outputs": [
    {
     "data": {
      "text/plain": [
       "'ycod'"
      ]
     },
     "execution_count": 17,
     "metadata": {},
     "output_type": "execute_result"
    }
   ],
   "source": [
    "str1[-7:-3]"
   ]
  },
  {
   "cell_type": "code",
   "execution_count": 18,
   "id": "automotive-district",
   "metadata": {},
   "outputs": [
    {
     "data": {
      "text/plain": [
       "''"
      ]
     },
     "execution_count": 18,
     "metadata": {},
     "output_type": "execute_result"
    }
   ],
   "source": [
    "str1[-2:-3]"
   ]
  },
  {
   "cell_type": "markdown",
   "id": "grateful-speaking",
   "metadata": {},
   "source": [
    "# Strings Are Immutable"
   ]
  },
  {
   "cell_type": "markdown",
   "id": "tribal-monster",
   "metadata": {},
   "source": [
    "<b><pre style=\"font-size:16px;color:#1f0954\">Strings are immutable, which means that you can’t change\n",
    "them once you’ve created them. For instance, see what happens when\n",
    "you try to assign a new letter to one particular character of a string:</pre><b>"
   ]
  },
  {
   "cell_type": "code",
   "execution_count": 19,
   "id": "sharp-ebony",
   "metadata": {},
   "outputs": [
    {
     "ename": "TypeError",
     "evalue": "'str' object does not support item assignment",
     "output_type": "error",
     "traceback": [
      "\u001b[1;31m---------------------------------------------------------------------------\u001b[0m",
      "\u001b[1;31mTypeError\u001b[0m                                 Traceback (most recent call last)",
      "\u001b[1;32m<ipython-input-19-0be98fa9ef2a>\u001b[0m in \u001b[0;36m<module>\u001b[1;34m\u001b[0m\n\u001b[0;32m      1\u001b[0m \u001b[0msomething\u001b[0m\u001b[1;33m=\u001b[0m\u001b[1;34m\"fall\"\u001b[0m\u001b[1;33m\u001b[0m\u001b[1;33m\u001b[0m\u001b[0m\n\u001b[1;32m----> 2\u001b[1;33m \u001b[0msomething\u001b[0m\u001b[1;33m[\u001b[0m\u001b[1;36m0\u001b[0m\u001b[1;33m]\u001b[0m\u001b[1;33m=\u001b[0m\u001b[1;34m\"b\"\u001b[0m\u001b[1;33m\u001b[0m\u001b[1;33m\u001b[0m\u001b[0m\n\u001b[0m",
      "\u001b[1;31mTypeError\u001b[0m: 'str' object does not support item assignment"
     ]
    }
   ],
   "source": [
    "something=\"fall\"\n",
    "something[0]=\"b\""
   ]
  },
  {
   "cell_type": "markdown",
   "id": "pacific-sussex",
   "metadata": {},
   "source": [
    "Python throws a TypeError and tells you that str objects don’t support\n",
    "item assignment."
   ]
  },
  {
   "cell_type": "markdown",
   "id": "occupied-collapse",
   "metadata": {},
   "source": [
    "<b><pre style=\"font-size:16px;color:#1f0954\">If you want to alter a string, then you must create an entirely new\n",
    "string. To change the string \"fall\" to the string \"ball\", you can use a\n",
    "string slice to concatenate the letter \"b\" with everything but the first\n",
    "letter of the word \"fall\":</pre><b>"
   ]
  },
  {
   "cell_type": "code",
   "execution_count": 20,
   "id": "tutorial-country",
   "metadata": {},
   "outputs": [],
   "source": [
    "something='b'+something[1:]"
   ]
  },
  {
   "cell_type": "code",
   "execution_count": 21,
   "id": "provincial-little",
   "metadata": {},
   "outputs": [
    {
     "name": "stdout",
     "output_type": "stream",
     "text": [
      "ball\n"
     ]
    }
   ],
   "source": [
    "print(something)"
   ]
  },
  {
   "cell_type": "markdown",
   "id": "automotive-novelty",
   "metadata": {},
   "source": [
    "# Manipulate Strings With Methods"
   ]
  },
  {
   "cell_type": "code",
   "execution_count": 22,
   "id": "conscious-retention",
   "metadata": {},
   "outputs": [],
   "source": [
    "#we will discuss about methods in upcoming sessions ..\n"
   ]
  },
  {
   "cell_type": "markdown",
   "id": "manual-mixture",
   "metadata": {},
   "source": [
    "## Converting String Case"
   ]
  },
  {
   "cell_type": "markdown",
   "id": "occasional-accommodation",
   "metadata": {},
   "source": [
    "<b><pre style=\"font-size:16px;color:#1f0954\">To convert a string to all lowercase letters, you use the string’s .lower() method.\n",
    "This is done by tacking .lower() onto the end of the string itself:</b></pre>"
   ]
  },
  {
   "cell_type": "code",
   "execution_count": 26,
   "id": "moving-drama",
   "metadata": {},
   "outputs": [
    {
     "data": {
      "text/plain": [
       "'i love coding'"
      ]
     },
     "execution_count": 26,
     "metadata": {},
     "output_type": "execute_result"
    }
   ],
   "source": [
    "\"I LovE CodinG\".lower()"
   ]
  },
  {
   "cell_type": "markdown",
   "id": "social-greene",
   "metadata": {},
   "source": [
    "<b>String methods don’t just work on string literals. You can also use\n",
    ".lower() on a string assigned to a variable:</b>"
   ]
  },
  {
   "cell_type": "code",
   "execution_count": 27,
   "id": "hourly-scanner",
   "metadata": {},
   "outputs": [],
   "source": [
    "Dg=\"WEirD ProGrammER\""
   ]
  },
  {
   "cell_type": "code",
   "execution_count": 28,
   "id": "operational-palestinian",
   "metadata": {},
   "outputs": [
    {
     "data": {
      "text/plain": [
       "'weird programmer'"
      ]
     },
     "execution_count": 28,
     "metadata": {},
     "output_type": "execute_result"
    }
   ],
   "source": [
    "Dg.lower()"
   ]
  },
  {
   "cell_type": "markdown",
   "id": "separated-surprise",
   "metadata": {},
   "source": [
    "<b>The opposite of .lower() is .upper(), which converts every character in\n",
    "a string to uppercase:</b>"
   ]
  },
  {
   "cell_type": "code",
   "execution_count": 30,
   "id": "actual-literacy",
   "metadata": {},
   "outputs": [
    {
     "data": {
      "text/plain": [
       "'WEIRD PROGRAMMER'"
      ]
     },
     "execution_count": 30,
     "metadata": {},
     "output_type": "execute_result"
    }
   ],
   "source": [
    "Dg.upper()"
   ]
  },
  {
   "cell_type": "code",
   "execution_count": 31,
   "id": "suburban-arbor",
   "metadata": {},
   "outputs": [
    {
     "data": {
      "text/plain": [
       "'WEirD ProGrammER'"
      ]
     },
     "execution_count": 31,
     "metadata": {},
     "output_type": "execute_result"
    }
   ],
   "source": [
    "Dg"
   ]
  },
  {
   "cell_type": "markdown",
   "id": "reduced-blanket",
   "metadata": {},
   "source": [
    "#### As you can see it wont change the data of a variable it just manipulates/changes according to method and returns a string"
   ]
  },
  {
   "cell_type": "markdown",
   "id": "tamil-perfume",
   "metadata": {},
   "source": [
    "# Removing White Space From String "
   ]
  },
  {
   "cell_type": "markdown",
   "id": "through-governor",
   "metadata": {},
   "source": [
    "<b><pre style=\"font-size:16px;color:#1f0954\">Sometimes you need to remove whitespace from the beginning or end\n",
    "of a string. This is especially useful when working with strings that\n",
    "come from user input, which may include extra whitespace characters\n",
    "by accident.</b></pre>"
   ]
  },
  {
   "cell_type": "markdown",
   "id": "blessed-conditioning",
   "metadata": {},
   "source": [
    "<b><pre style=\"font-size:16px;color:#1f0954\">There are three string methods that you can use to remove whitespace\n",
    "from a string:\n",
    "1. .rstrip()\n",
    "2. .lstrip()\n",
    "3. .strip()</b></pre>"
   ]
  },
  {
   "cell_type": "code",
   "execution_count": 32,
   "id": "clinical-swimming",
   "metadata": {},
   "outputs": [],
   "source": [
    "right_space=\"right side  \""
   ]
  },
  {
   "cell_type": "code",
   "execution_count": 33,
   "id": "extra-malpractice",
   "metadata": {},
   "outputs": [
    {
     "data": {
      "text/plain": [
       "'right side  '"
      ]
     },
     "execution_count": 33,
     "metadata": {},
     "output_type": "execute_result"
    }
   ],
   "source": [
    "right_space"
   ]
  },
  {
   "cell_type": "markdown",
   "id": "electoral-showcase",
   "metadata": {},
   "source": [
    "<b><pre style=\"font-size:16px;color:#1f0954\">In this example, the string \"right side  \" has two trailing spaces.\n",
    "You use .rstrip() to remove trailing spaces from the right-hand side\n",
    "of the string. This returns the new string \"right side\", which no\n",
    "longer has the spaces at the end.</pre></b>"
   ]
  },
  {
   "cell_type": "code",
   "execution_count": 35,
   "id": "consistent-andrews",
   "metadata": {},
   "outputs": [
    {
     "data": {
      "text/plain": [
       "'right side'"
      ]
     },
     "execution_count": 35,
     "metadata": {},
     "output_type": "execute_result"
    }
   ],
   "source": [
    "right_space.rstrip()"
   ]
  },
  {
   "cell_type": "markdown",
   "id": "alone-longer",
   "metadata": {},
   "source": [
    "<b>.lstrip() works just like .rstrip(), except that it removes whitespace\n",
    "from the left-hand side of the string:</b>"
   ]
  },
  {
   "cell_type": "code",
   "execution_count": 36,
   "id": "southeast-military",
   "metadata": {},
   "outputs": [],
   "source": [
    "left_space=\"   left side\""
   ]
  },
  {
   "cell_type": "code",
   "execution_count": 37,
   "id": "touched-cooperative",
   "metadata": {},
   "outputs": [
    {
     "data": {
      "text/plain": [
       "'left side'"
      ]
     },
     "execution_count": 37,
     "metadata": {},
     "output_type": "execute_result"
    }
   ],
   "source": [
    "left_space.lstrip()"
   ]
  },
  {
   "cell_type": "markdown",
   "id": "emotional-disposal",
   "metadata": {},
   "source": [
    "<b>To remove whitespace from both the left and the right sides of the\n",
    "string at the same time, use .strip():</b>"
   ]
  },
  {
   "cell_type": "code",
   "execution_count": 38,
   "id": "advance-buyer",
   "metadata": {},
   "outputs": [
    {
     "data": {
      "text/plain": [
       "'both'"
      ]
     },
     "execution_count": 38,
     "metadata": {},
     "output_type": "execute_result"
    }
   ],
   "source": [
    "space=\"  both   \"\n",
    "space.strip()"
   ]
  },
  {
   "cell_type": "markdown",
   "id": "found-scout",
   "metadata": {},
   "source": [
    "# Determine If a String Starts or Ends With a Particular String"
   ]
  },
  {
   "cell_type": "code",
   "execution_count": 39,
   "id": "regular-cable",
   "metadata": {},
   "outputs": [],
   "source": [
    "a='Starts with'"
   ]
  },
  {
   "cell_type": "markdown",
   "id": "criminal-destiny",
   "metadata": {},
   "source": [
    "Here’s how\n",
    "you use .startswith() to determine if the string starts with the letters\n",
    "S and t:"
   ]
  },
  {
   "cell_type": "code",
   "execution_count": 41,
   "id": "polar-pantyhose",
   "metadata": {},
   "outputs": [
    {
     "data": {
      "text/plain": [
       "False"
      ]
     },
     "execution_count": 41,
     "metadata": {},
     "output_type": "execute_result"
    }
   ],
   "source": [
    "a.startswith('st')"
   ]
  },
  {
   "cell_type": "markdown",
   "id": "former-yeast",
   "metadata": {},
   "source": [
    "<b><pre style=\"font-size:16px;color:#1f0954\">You tell .startswith() which characters to search for by providing a\n",
    "string containing those characters. So, to determine if \"Starts with\"\n",
    "starts with the letters s and t, you call .startswith(\"st\"). This returns\n",
    "False. Why do you think that is?<br>\n",
    "If you guessed that .startswith(\"st\") returns False because \"Starts with\" starts with a capital S, \n",
    "then you’re absolutely right! The.startswith() method is case sensitive. \n",
    "To get .startswith() to return True, you need to provide it with the string \"St\":</b></pre>"
   ]
  },
  {
   "cell_type": "code",
   "execution_count": 42,
   "id": "stable-terry",
   "metadata": {},
   "outputs": [
    {
     "data": {
      "text/plain": [
       "True"
      ]
     },
     "execution_count": 42,
     "metadata": {},
     "output_type": "execute_result"
    }
   ],
   "source": [
    "a.startswith('St')"
   ]
  },
  {
   "cell_type": "markdown",
   "id": "transparent-alexander",
   "metadata": {},
   "source": [
    "You can use .endswith() to determine if a string ends with certain char-\n",
    "acters:"
   ]
  },
  {
   "cell_type": "code",
   "execution_count": 43,
   "id": "decent-editor",
   "metadata": {},
   "outputs": [
    {
     "data": {
      "text/plain": [
       "True"
      ]
     },
     "execution_count": 43,
     "metadata": {},
     "output_type": "execute_result"
    }
   ],
   "source": [
    "a.endswith('ith')"
   ]
  },
  {
   "cell_type": "markdown",
   "id": "former-pension",
   "metadata": {},
   "source": [
    "Just like .startswith(), the .endswith() method is case sensitive:"
   ]
  },
  {
   "cell_type": "code",
   "execution_count": 44,
   "id": "ranking-truth",
   "metadata": {},
   "outputs": [
    {
     "data": {
      "text/plain": [
       "False"
      ]
     },
     "execution_count": 44,
     "metadata": {},
     "output_type": "execute_result"
    }
   ],
   "source": [
    "a.endswith('iTh')"
   ]
  },
  {
   "cell_type": "markdown",
   "id": "innovative-discretion",
   "metadata": {},
   "source": [
    "<h1 style=\"color:navy\">End Of Day5</h1>\n",
    "<h3><pre style=\"color:#9900fa;\">          ---- D GIREESH @dg <pre></h3>"
   ]
  },
  {
   "cell_type": "code",
   "execution_count": null,
   "id": "polished-board",
   "metadata": {},
   "outputs": [],
   "source": []
  }
 ],
 "metadata": {
  "kernelspec": {
   "display_name": "Python 3",
   "language": "python",
   "name": "python3"
  },
  "language_info": {
   "codemirror_mode": {
    "name": "ipython",
    "version": 3
   },
   "file_extension": ".py",
   "mimetype": "text/x-python",
   "name": "python",
   "nbconvert_exporter": "python",
   "pygments_lexer": "ipython3",
   "version": "3.8.3"
  }
 },
 "nbformat": 4,
 "nbformat_minor": 5
}
