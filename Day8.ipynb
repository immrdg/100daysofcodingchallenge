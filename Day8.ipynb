{
 "cells": [
  {
   "cell_type": "markdown",
   "id": "material-samoa",
   "metadata": {},
   "source": [
    "<h1 style=\"color:#123ade\">Day 8 of #100daysofcodingchallenge </h1><br>\n",
    "Date:18-01-2021<br>"
   ]
  },
  {
   "cell_type": "markdown",
   "id": "liable-kentucky",
   "metadata": {},
   "source": [
    "# COLLECTION DATA TYPES\n",
    "LETS START WITH TUPLES"
   ]
  },
  {
   "cell_type": "markdown",
   "id": "korean-syndicate",
   "metadata": {},
   "source": [
    "<p><pre style=\"font-size:18px;color:midnightblue\">A tuple is an ordered sequence of zero or more object references. Tuples\n",
    "support the same slicing and striding syntax as strings. This makes it easy to\n",
    "extract items from a tuple. Like strings, tuples are immutable, so we cannot\n",
    "replace or delete any of their items.</pre></p>"
   ]
  },
  {
   "cell_type": "code",
   "execution_count": 1,
   "id": "capital-shade",
   "metadata": {},
   "outputs": [],
   "source": [
    "#string is just a sequence of character stuff where tuples and lists are collection of any \n",
    "#data type items it may contain the same data type itself\n",
    "a=(1,2.0,'c','string',True)"
   ]
  },
  {
   "cell_type": "code",
   "execution_count": 2,
   "id": "hearing-stomach",
   "metadata": {},
   "outputs": [
    {
     "data": {
      "text/plain": [
       "(1, 2.0, 'c', 'string', True)"
      ]
     },
     "execution_count": 2,
     "metadata": {},
     "output_type": "execute_result"
    }
   ],
   "source": [
    "a"
   ]
  },
  {
   "cell_type": "code",
   "execution_count": 3,
   "id": "horizontal-conference",
   "metadata": {},
   "outputs": [],
   "source": [
    "b=(1,'s',(1,'string'))"
   ]
  },
  {
   "cell_type": "code",
   "execution_count": 4,
   "id": "altered-simulation",
   "metadata": {},
   "outputs": [
    {
     "data": {
      "text/plain": [
       "(1, 's', (1, 'string'))"
      ]
     },
     "execution_count": 4,
     "metadata": {},
     "output_type": "execute_result"
    }
   ],
   "source": [
    "b"
   ]
  },
  {
   "cell_type": "markdown",
   "id": "athletic-andrew",
   "metadata": {},
   "source": [
    "## look at the image below\n",
    "<img src=\"tuple.jpg\">"
   ]
  },
  {
   "cell_type": "code",
   "execution_count": 5,
   "id": "instant-march",
   "metadata": {},
   "outputs": [
    {
     "name": "stdout",
     "output_type": "stream",
     "text": [
      "<class 'tuple'>\n"
     ]
    }
   ],
   "source": [
    "#see a tuple is created and in the last index it has another tuple\n",
    "#let us now see how to access it\n",
    "print(type(b)) #its a tuple"
   ]
  },
  {
   "cell_type": "code",
   "execution_count": 6,
   "id": "legal-manner",
   "metadata": {},
   "outputs": [
    {
     "data": {
      "text/plain": [
       "1"
      ]
     },
     "execution_count": 6,
     "metadata": {},
     "output_type": "execute_result"
    }
   ],
   "source": [
    "b[0] #look at the picture its 1 right"
   ]
  },
  {
   "cell_type": "code",
   "execution_count": 7,
   "id": "corrected-savannah",
   "metadata": {},
   "outputs": [
    {
     "data": {
      "text/plain": [
       "'s'"
      ]
     },
     "execution_count": 7,
     "metadata": {},
     "output_type": "execute_result"
    }
   ],
   "source": [
    "b[1] #look at the picture its 's'"
   ]
  },
  {
   "cell_type": "code",
   "execution_count": 8,
   "id": "african-virus",
   "metadata": {},
   "outputs": [
    {
     "data": {
      "text/plain": [
       "str"
      ]
     },
     "execution_count": 8,
     "metadata": {},
     "output_type": "execute_result"
    }
   ],
   "source": [
    "type(b[1]) #returns class str"
   ]
  },
  {
   "cell_type": "code",
   "execution_count": 9,
   "id": "descending-designer",
   "metadata": {},
   "outputs": [
    {
     "data": {
      "text/plain": [
       "(1, 'string')"
      ]
     },
     "execution_count": 9,
     "metadata": {},
     "output_type": "execute_result"
    }
   ],
   "source": [
    "b[2] # is it 1 ? or 'string'? lets see"
   ]
  },
  {
   "cell_type": "code",
   "execution_count": 10,
   "id": "basic-karen",
   "metadata": {},
   "outputs": [
    {
     "data": {
      "text/plain": [
       "tuple"
      ]
     },
     "execution_count": 10,
     "metadata": {},
     "output_type": "execute_result"
    }
   ],
   "source": [
    "#you see its both.. wanna see what type it is?\n",
    "type(b[2])"
   ]
  },
  {
   "cell_type": "code",
   "execution_count": 11,
   "id": "existing-method",
   "metadata": {},
   "outputs": [
    {
     "data": {
      "text/plain": [
       "(1, 'string')"
      ]
     },
     "execution_count": 11,
     "metadata": {},
     "output_type": "execute_result"
    }
   ],
   "source": [
    "#then how to access sub tuple \n",
    "b[2]"
   ]
  },
  {
   "cell_type": "code",
   "execution_count": 12,
   "id": "cloudy-province",
   "metadata": {},
   "outputs": [
    {
     "data": {
      "text/plain": [
       "1"
      ]
     },
     "execution_count": 12,
     "metadata": {},
     "output_type": "execute_result"
    }
   ],
   "source": [
    "#imagine b[2] is variable which holds a tuple data now as accessed before lets access it remember imagine b[2] as variable\n",
    "b[2][0]"
   ]
  },
  {
   "cell_type": "code",
   "execution_count": 13,
   "id": "noticed-delight",
   "metadata": {},
   "outputs": [
    {
     "data": {
      "text/plain": [
       "'string'"
      ]
     },
     "execution_count": 13,
     "metadata": {},
     "output_type": "execute_result"
    }
   ],
   "source": [
    "#similarly\n",
    "b[2][1]"
   ]
  },
  {
   "cell_type": "code",
   "execution_count": 15,
   "id": "moving-douglas",
   "metadata": {},
   "outputs": [
    {
     "data": {
      "text/plain": [
       "'str'"
      ]
     },
     "execution_count": 15,
     "metadata": {},
     "output_type": "execute_result"
    }
   ],
   "source": [
    "#now b[2][0] is string how to get first 3 characters from string which is in tuple b's sub tuple \n",
    "#assume b[2][0] as also a variable\n",
    "b[2][1][:3]"
   ]
  },
  {
   "cell_type": "code",
   "execution_count": 16,
   "id": "absolute-field",
   "metadata": {},
   "outputs": [],
   "source": [
    "#see you got first 3 letters of string \"string\" which is in tuple of another tuple\n"
   ]
  },
  {
   "cell_type": "markdown",
   "id": "stretch-frederick",
   "metadata": {},
   "source": [
    "# Note"
   ]
  },
  {
   "cell_type": "code",
   "execution_count": 17,
   "id": "smaller-egypt",
   "metadata": {},
   "outputs": [],
   "source": [
    "a=(1)"
   ]
  },
  {
   "cell_type": "code",
   "execution_count": 18,
   "id": "polyphonic-clark",
   "metadata": {},
   "outputs": [
    {
     "data": {
      "text/plain": [
       "1"
      ]
     },
     "execution_count": 18,
     "metadata": {},
     "output_type": "execute_result"
    }
   ],
   "source": [
    "a"
   ]
  },
  {
   "cell_type": "code",
   "execution_count": 19,
   "id": "perceived-spoke",
   "metadata": {},
   "outputs": [
    {
     "data": {
      "text/plain": [
       "int"
      ]
     },
     "execution_count": 19,
     "metadata": {},
     "output_type": "execute_result"
    }
   ],
   "source": [
    "type(a)"
   ]
  },
  {
   "cell_type": "code",
   "execution_count": 20,
   "id": "independent-night",
   "metadata": {},
   "outputs": [],
   "source": [
    "#its not tuple "
   ]
  },
  {
   "cell_type": "markdown",
   "id": "expanded-heather",
   "metadata": {},
   "source": [
    "<p><pre style=\"font-size:18px;color:midnightblue\">It is important to remember to use a trailing comma\n",
    "when creating a tuple with one element,\n",
    "  for example: \n",
    "       a = (1,) \n",
    "Without the trailing comma, this would be interpreted as a string.</pre></p>"
   ]
  },
  {
   "cell_type": "code",
   "execution_count": 21,
   "id": "virtual-parker",
   "metadata": {},
   "outputs": [],
   "source": [
    "a=(1,)"
   ]
  },
  {
   "cell_type": "code",
   "execution_count": 22,
   "id": "statistical-irrigation",
   "metadata": {},
   "outputs": [
    {
     "data": {
      "text/plain": [
       "(1,)"
      ]
     },
     "execution_count": 22,
     "metadata": {},
     "output_type": "execute_result"
    }
   ],
   "source": [
    "a"
   ]
  },
  {
   "cell_type": "code",
   "execution_count": 23,
   "id": "hybrid-turtle",
   "metadata": {},
   "outputs": [
    {
     "data": {
      "text/plain": [
       "tuple"
      ]
     },
     "execution_count": 23,
     "metadata": {},
     "output_type": "execute_result"
    }
   ],
   "source": [
    "type(a)"
   ]
  },
  {
   "cell_type": "code",
   "execution_count": 24,
   "id": "social-thompson",
   "metadata": {},
   "outputs": [],
   "source": [
    "#its a tuple now"
   ]
  },
  {
   "cell_type": "markdown",
   "id": "eligible-array",
   "metadata": {},
   "source": [
    "<p><pre style=\"font-size:18px;color:midnightblue\">We can also create a tuple using the built-in function tuple(). \n",
    "With no argument, this creates an empty tuple. If the argument to tuple() is a sequence \n",
    "then this creates a tuple of elements of that sequence, \n",
    "    for example:</pre></p>"
   ]
  },
  {
   "cell_type": "code",
   "execution_count": 25,
   "id": "fewer-environment",
   "metadata": {},
   "outputs": [
    {
     "data": {
      "text/plain": [
       "('a', 'b', 'c', 'd', 'e', 'f', 'g', 'h', '\"', 'l', 'o', 'l', '\"')"
      ]
     },
     "execution_count": 25,
     "metadata": {},
     "output_type": "execute_result"
    }
   ],
   "source": [
    "tuple('abcdefgh\"lol\"')"
   ]
  },
  {
   "cell_type": "code",
   "execution_count": 27,
   "id": "paperback-copyright",
   "metadata": {},
   "outputs": [
    {
     "data": {
      "text/plain": [
       "13"
      ]
     },
     "execution_count": 27,
     "metadata": {},
     "output_type": "execute_result"
    }
   ],
   "source": [
    "len('abcdefgh\"lol\"')"
   ]
  },
  {
   "cell_type": "markdown",
   "id": "concrete-concentration",
   "metadata": {},
   "source": [
    "len(tuple('abcdefgh\"lol\"'))"
   ]
  },
  {
   "cell_type": "code",
   "execution_count": 29,
   "id": "legendary-increase",
   "metadata": {},
   "outputs": [
    {
     "ename": "TypeError",
     "evalue": "'int' object is not iterable",
     "output_type": "error",
     "traceback": [
      "\u001b[1;31m---------------------------------------------------------------------------\u001b[0m",
      "\u001b[1;31mTypeError\u001b[0m                                 Traceback (most recent call last)",
      "\u001b[1;32m<ipython-input-29-e693e81be04d>\u001b[0m in \u001b[0;36m<module>\u001b[1;34m\u001b[0m\n\u001b[1;32m----> 1\u001b[1;33m \u001b[0mtuple\u001b[0m\u001b[1;33m(\u001b[0m\u001b[1;36m123\u001b[0m\u001b[1;33m)\u001b[0m \u001b[1;31m#you are not allowed to pass integers as it is not collection datatype\u001b[0m\u001b[1;33m\u001b[0m\u001b[1;33m\u001b[0m\u001b[0m\n\u001b[0m",
      "\u001b[1;31mTypeError\u001b[0m: 'int' object is not iterable"
     ]
    }
   ],
   "source": [
    "tuple(123) #you are not allowed to pass integers as it is not collection datatype"
   ]
  },
  {
   "cell_type": "markdown",
   "id": "dietary-lecture",
   "metadata": {},
   "source": [
    "# Tuple Slicing\n",
    "works same as strings"
   ]
  },
  {
   "cell_type": "code",
   "execution_count": 31,
   "id": "instrumental-technical",
   "metadata": {},
   "outputs": [
    {
     "data": {
      "text/plain": [
       "(1, 's', (1, 'string'))"
      ]
     },
     "execution_count": 31,
     "metadata": {},
     "output_type": "execute_result"
    }
   ],
   "source": [
    "b"
   ]
  },
  {
   "cell_type": "code",
   "execution_count": 32,
   "id": "armed-canberra",
   "metadata": {},
   "outputs": [
    {
     "data": {
      "text/plain": [
       "(1, 's')"
      ]
     },
     "execution_count": 32,
     "metadata": {},
     "output_type": "execute_result"
    }
   ],
   "source": [
    "b[:2] #first two elements"
   ]
  },
  {
   "cell_type": "code",
   "execution_count": 33,
   "id": "agricultural-teacher",
   "metadata": {},
   "outputs": [
    {
     "data": {
      "text/plain": [
       "('s', (1, 'string'))"
      ]
     },
     "execution_count": 33,
     "metadata": {},
     "output_type": "execute_result"
    }
   ],
   "source": [
    "b[1:3] # 2nd and 3rd elements"
   ]
  },
  {
   "cell_type": "code",
   "execution_count": 34,
   "id": "prompt-switzerland",
   "metadata": {},
   "outputs": [
    {
     "data": {
      "text/plain": [
       "(1,)"
      ]
     },
     "execution_count": 34,
     "metadata": {},
     "output_type": "execute_result"
    }
   ],
   "source": [
    "b[2][:1] #first element in subtuple"
   ]
  },
  {
   "cell_type": "code",
   "execution_count": 35,
   "id": "middle-fluid",
   "metadata": {},
   "outputs": [
    {
     "data": {
      "text/plain": [
       "('string',)"
      ]
     },
     "execution_count": 35,
     "metadata": {},
     "output_type": "execute_result"
    }
   ],
   "source": [
    "b[2][1:2]"
   ]
  },
  {
   "cell_type": "code",
   "execution_count": 36,
   "id": "flying-plastic",
   "metadata": {},
   "outputs": [],
   "source": [
    "#b[2][1] is indexing and where b[2][1:2] slicing slices the data copy "
   ]
  },
  {
   "cell_type": "markdown",
   "id": "sharp-faith",
   "metadata": {},
   "source": [
    "<p><pre style=\"font-size:18px;color:darkblue\">An important use of tuples is to allow us to assign more than one variable \n",
    "at a time by  placing a tuple on the left-hand side of an assignment,\n",
    "for example:</pre></p>"
   ]
  },
  {
   "cell_type": "code",
   "execution_count": 37,
   "id": "miniature-steering",
   "metadata": {},
   "outputs": [],
   "source": [
    "a=(1,2)"
   ]
  },
  {
   "cell_type": "code",
   "execution_count": 38,
   "id": "metallic-arthritis",
   "metadata": {},
   "outputs": [],
   "source": [
    "x,y=a"
   ]
  },
  {
   "cell_type": "code",
   "execution_count": 39,
   "id": "small-pavilion",
   "metadata": {},
   "outputs": [
    {
     "data": {
      "text/plain": [
       "1"
      ]
     },
     "execution_count": 39,
     "metadata": {},
     "output_type": "execute_result"
    }
   ],
   "source": [
    "x"
   ]
  },
  {
   "cell_type": "code",
   "execution_count": 40,
   "id": "artistic-skiing",
   "metadata": {},
   "outputs": [
    {
     "data": {
      "text/plain": [
       "2"
      ]
     },
     "execution_count": 40,
     "metadata": {},
     "output_type": "execute_result"
    }
   ],
   "source": [
    "y"
   ]
  },
  {
   "cell_type": "code",
   "execution_count": 41,
   "id": "living-pottery",
   "metadata": {},
   "outputs": [],
   "source": [
    "#what if a has multiple elements?"
   ]
  },
  {
   "cell_type": "code",
   "execution_count": 45,
   "id": "interpreted-vertex",
   "metadata": {},
   "outputs": [],
   "source": [
    "a=(1,2,3,4)"
   ]
  },
  {
   "cell_type": "code",
   "execution_count": 47,
   "id": "injured-copper",
   "metadata": {},
   "outputs": [
    {
     "ename": "ValueError",
     "evalue": "too many values to unpack (expected 2)",
     "output_type": "error",
     "traceback": [
      "\u001b[1;31m---------------------------------------------------------------------------\u001b[0m",
      "\u001b[1;31mValueError\u001b[0m                                Traceback (most recent call last)",
      "\u001b[1;32m<ipython-input-47-834c1cdd33e8>\u001b[0m in \u001b[0;36m<module>\u001b[1;34m\u001b[0m\n\u001b[1;32m----> 1\u001b[1;33m \u001b[0mx\u001b[0m\u001b[1;33m,\u001b[0m\u001b[0my\u001b[0m\u001b[1;33m=\u001b[0m\u001b[0ma\u001b[0m\u001b[1;33m\u001b[0m\u001b[1;33m\u001b[0m\u001b[0m\n\u001b[0m",
      "\u001b[1;31mValueError\u001b[0m: too many values to unpack (expected 2)"
     ]
    }
   ],
   "source": [
    "x,y=a"
   ]
  },
  {
   "cell_type": "code",
   "execution_count": 48,
   "id": "split-stack",
   "metadata": {},
   "outputs": [],
   "source": [
    "#it cant unpack \n",
    "#lets see how to unpack\n",
    "x,y,*z=a "
   ]
  },
  {
   "cell_type": "markdown",
   "id": "editorial-sailing",
   "metadata": {},
   "source": [
    "<img src=\"unpacking.png\">"
   ]
  },
  {
   "cell_type": "code",
   "execution_count": 49,
   "id": "handmade-freight",
   "metadata": {},
   "outputs": [
    {
     "data": {
      "text/plain": [
       "1"
      ]
     },
     "execution_count": 49,
     "metadata": {},
     "output_type": "execute_result"
    }
   ],
   "source": [
    "x #first value of a is assigned to x"
   ]
  },
  {
   "cell_type": "code",
   "execution_count": 50,
   "id": "annoying-indianapolis",
   "metadata": {},
   "outputs": [
    {
     "data": {
      "text/plain": [
       "2"
      ]
     },
     "execution_count": 50,
     "metadata": {},
     "output_type": "execute_result"
    }
   ],
   "source": [
    "y #second value of a is assigned to y"
   ]
  },
  {
   "cell_type": "code",
   "execution_count": 52,
   "id": "incident-mainland",
   "metadata": {},
   "outputs": [
    {
     "data": {
      "text/plain": [
       "[3, 4]"
      ]
     },
     "execution_count": 52,
     "metadata": {},
     "output_type": "execute_result"
    }
   ],
   "source": [
    "z # * before z packs all the other values to z .. means stores multiple values which are not not assigned to previous \n",
    "#variables as list"
   ]
  },
  {
   "cell_type": "code",
   "execution_count": 53,
   "id": "metallic-institution",
   "metadata": {},
   "outputs": [],
   "source": [
    "#we will talk about lists later"
   ]
  }
 ],
 "metadata": {
  "kernelspec": {
   "display_name": "Python 3",
   "language": "python",
   "name": "python3"
  },
  "language_info": {
   "codemirror_mode": {
    "name": "ipython",
    "version": 3
   },
   "file_extension": ".py",
   "mimetype": "text/x-python",
   "name": "python",
   "nbconvert_exporter": "python",
   "pygments_lexer": "ipython3",
   "version": "3.8.3"
  }
 },
 "nbformat": 4,
 "nbformat_minor": 5
}
