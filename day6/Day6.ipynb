{
 "cells": [
  {
   "cell_type": "markdown",
   "id": "selected-myrtle",
   "metadata": {},
   "source": [
    "<h1 style=\"color:#5d1451\">Day 6 of #100daysofcodingchallenge </h1><br>\n",
    "Date:15-01-2021<br>"
   ]
  },
  {
   "cell_type": "markdown",
   "id": "norman-compression",
   "metadata": {},
   "source": [
    "# USER INPUT"
   ]
  },
  {
   "cell_type": "markdown",
   "id": "local-response",
   "metadata": {},
   "source": [
    "<b><pre style=\"color:#5d1489\"> Just as a data value can be assigned to a variable in a Python script, a user-\n",
    "specified value can be assigned to a variable with the Python <strong style=\"color:red\">input()</strong> function.</pre></b>"
   ]
  },
  {
   "cell_type": "code",
   "execution_count": 1,
   "id": "controlled-fifteen",
   "metadata": {},
   "outputs": [
    {
     "name": "stdout",
     "output_type": "stream",
     "text": [
      "hey hi im gireesh\n"
     ]
    },
    {
     "data": {
      "text/plain": [
       "'hey hi im gireesh'"
      ]
     },
     "execution_count": 1,
     "metadata": {},
     "output_type": "execute_result"
    }
   ],
   "source": [
    "input()"
   ]
  },
  {
   "cell_type": "code",
   "execution_count": 2,
   "id": "composed-corner",
   "metadata": {},
   "outputs": [
    {
     "name": "stdout",
     "output_type": "stream",
     "text": [
      "it wont return this as out[]\n"
     ]
    }
   ],
   "source": [
    "#if you are working with jupyter notebooks it will show you a input box to take input from user \n",
    "#if you are using python interpreter cursor moves to next line waiting for you to provide input\n",
    "#once you enter input it displays the message if you dont store input data in a variable\n",
    "inp=input()"
   ]
  },
  {
   "cell_type": "markdown",
   "id": "prospective-commissioner",
   "metadata": {},
   "source": [
    "<b><pre style=\"color:#d61789\">Before getting input from the user, it is a good idea to print a prompt telling the\n",
    "user what to input. You can pass a string to input to be displayed to the user\n",
    "before pausing for input:</pre></b>"
   ]
  },
  {
   "cell_type": "code",
   "execution_count": 3,
   "id": "strange-reserve",
   "metadata": {},
   "outputs": [
    {
     "name": "stdout",
     "output_type": "stream",
     "text": [
      "Hey What is your name?\n",
      "Gireesh\n"
     ]
    }
   ],
   "source": [
    "name=input(\"Hey What is your name?\\n\")"
   ]
  },
  {
   "cell_type": "markdown",
   "id": "competent-christian",
   "metadata": {},
   "source": [
    "<b><pre style=\"color:maroon\">The sequence <u style=\"color:red\">\\n</u> at the end of the prompt represents a newline, which is a special\n",
    "character that causes a line break. That’s why the user’s input appears below the\n",
    "prompt.</pre></b>"
   ]
  },
  {
   "cell_type": "code",
   "execution_count": 4,
   "id": "derived-reasoning",
   "metadata": {},
   "outputs": [
    {
     "name": "stdout",
     "output_type": "stream",
     "text": [
      "Gireesh\n"
     ]
    }
   ],
   "source": [
    "print(name)"
   ]
  },
  {
   "cell_type": "code",
   "execution_count": 5,
   "id": "presidential-fellow",
   "metadata": {},
   "outputs": [
    {
     "name": "stdout",
     "output_type": "stream",
     "text": [
      "Enter Number 1:12\n",
      "Enter Number 2:8\n",
      "128\n"
     ]
    }
   ],
   "source": [
    "num1=input(\"Enter Number 1:\")\n",
    "num2=input(\"Enter Number 2:\")\n",
    "#lets add them\n",
    "print(num1+num2)"
   ]
  },
  {
   "cell_type": "markdown",
   "id": "copyrighted-arbitration",
   "metadata": {},
   "source": [
    "<b><pre style=\"color:darkblue\">Oh! What in Seven hells 12+8 is 128...\n",
    "thing is input() always returns a string, so if you input 12,8, then num1,num2 are assigned with strings\n",
    "\"12\" and \"8\", not the integers 12 & 8. Therefore, the expression num1+num2 returns the\n",
    "string \"128\" as '+' operator concatenates, which is \"128\".\n",
    "<br>\n",
    "If you expect the user to type an integer, you can try to convert the return value\n",
    "to int using the <i style=\"color:gold\">int()</i> function:</pre></b>"
   ]
  },
  {
   "cell_type": "code",
   "execution_count": 6,
   "id": "unable-silicon",
   "metadata": {},
   "outputs": [
    {
     "name": "stdout",
     "output_type": "stream",
     "text": [
      "Enter Your Age:20\n",
      "20\n"
     ]
    }
   ],
   "source": [
    "#you can change the value to int while taking input or after taking input\n",
    "age=input('Enter Your Age:')\n",
    "age=int(age)\n",
    "print(age)"
   ]
  },
  {
   "cell_type": "code",
   "execution_count": 7,
   "id": "premium-geology",
   "metadata": {},
   "outputs": [
    {
     "name": "stdout",
     "output_type": "stream",
     "text": [
      "after 2 years my age will be  22\n"
     ]
    }
   ],
   "source": [
    "print('after 2 years my age will be ',age+2)"
   ]
  },
  {
   "cell_type": "code",
   "execution_count": 8,
   "id": "immune-karma",
   "metadata": {},
   "outputs": [
    {
     "name": "stdout",
     "output_type": "stream",
     "text": [
      "Enter Your Age:20\n",
      "after 5 years my age will be  25\n"
     ]
    }
   ],
   "source": [
    "#see its not returning 202 so it is converted to integer\n",
    "#lets see how to change value to int while taking input\n",
    "age=int(input('Enter Your Age:'))\n",
    "print('after 5 years my age will be ',age+5)"
   ]
  },
  {
   "cell_type": "code",
   "execution_count": 9,
   "id": "secondary-eating",
   "metadata": {},
   "outputs": [
    {
     "ename": "TypeError",
     "evalue": "can only concatenate str (not \"int\") to str",
     "output_type": "error",
     "traceback": [
      "\u001b[1;31m---------------------------------------------------------------------------\u001b[0m",
      "\u001b[1;31mTypeError\u001b[0m                                 Traceback (most recent call last)",
      "\u001b[1;32m<ipython-input-9-b6b3a7a40aa2>\u001b[0m in \u001b[0;36m<module>\u001b[1;34m\u001b[0m\n\u001b[1;32m----> 1\u001b[1;33m \u001b[0mprint\u001b[0m\u001b[1;33m(\u001b[0m\u001b[1;34m\"Your Age Is:\"\u001b[0m\u001b[1;33m+\u001b[0m\u001b[0mage\u001b[0m\u001b[1;33m)\u001b[0m\u001b[1;33m\u001b[0m\u001b[1;33m\u001b[0m\u001b[0m\n\u001b[0m",
      "\u001b[1;31mTypeError\u001b[0m: can only concatenate str (not \"int\") to str"
     ]
    }
   ],
   "source": [
    "print(\"Your Age Is:\"+age)"
   ]
  },
  {
   "cell_type": "code",
   "execution_count": 10,
   "id": "later-uncle",
   "metadata": {},
   "outputs": [
    {
     "name": "stdout",
     "output_type": "stream",
     "text": [
      "Your Age Is:20\n"
     ]
    }
   ],
   "source": [
    "#it throws an error a type error as it cant add string and an integer.\n",
    "#ok what do we do know?... yeah lets add the str(age) instead of age\n",
    "print(\"Your Age Is:\"+str(age))"
   ]
  },
  {
   "cell_type": "markdown",
   "id": "deadly-grammar",
   "metadata": {},
   "source": []
  }
 ],
 "metadata": {
  "kernelspec": {
   "display_name": "Python 3",
   "language": "python",
   "name": "python3"
  },
  "language_info": {
   "codemirror_mode": {
    "name": "ipython",
    "version": 3
   },
   "file_extension": ".py",
   "mimetype": "text/x-python",
   "name": "python",
   "nbconvert_exporter": "python",
   "pygments_lexer": "ipython3",
   "version": "3.8.3"
  }
 },
 "nbformat": 4,
 "nbformat_minor": 5
}
