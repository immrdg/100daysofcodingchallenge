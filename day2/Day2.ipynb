{
 "cells": [
  {
   "cell_type": "markdown",
   "metadata": {},
   "source": [
    "<h1 style=\"color:darkblue\">Day 2 of #100daysofcodingchallenge </h1><br>\n",
    "Before learning more about variables lets know about comments"
   ]
  },
  {
   "cell_type": "markdown",
   "metadata": {},
   "source": [
    "<h1 style=\"color:goldenrod\"> Python Comments</h1>"
   ]
  },
  {
   "cell_type": "markdown",
   "metadata": {},
   "source": [
    "<h4 style=\"color:crimson\">Comments: </h4>\n",
    "<b><pre>--><u style=\"color:dodgerblue\">The hash symbol, #, is used to mark comments.</u> Comments are completely ignored by the Python interpreter. \n",
    "-->All text between the # sign and the end of the line is ignored. This formatting is a convenience so you, the \n",
    "   programmer, can write little notes to yourself to remind yourself what this part of the code is supposed to do or\n",
    "   to flag parts of the code that need attention. \n",
    "-->These comments will only ever be seen by people who are actually reading the code. \n",
    "-->If you are writing software as part of a team, comments are a great way of communicating your \n",
    "   thoughts and intentions to the other programmers. \n",
    "-->Good code can often contain more comments than actual lines of code—don’t be tempted to \n",
    "   remove them once you’ve coded the design.\n",
    "-->In a month’s time, you are likely to have completely forgotten what the script was intended to do, and \n",
    "   you will be thankful for these little reminders.</pre></b>"
   ]
  },
  {
   "cell_type": "markdown",
   "metadata": {},
   "source": [
    "Lets see how comments work :\n"
   ]
  },
  {
   "cell_type": "code",
   "execution_count": 1,
   "metadata": {},
   "outputs": [
    {
     "ename": "NameError",
     "evalue": "name 'a' is not defined",
     "output_type": "error",
     "traceback": [
      "\u001b[1;31m---------------------------------------------------------------------------\u001b[0m",
      "\u001b[1;31mNameError\u001b[0m                                 Traceback (most recent call last)",
      "\u001b[1;32m<ipython-input-1-b2742b7d4555>\u001b[0m in \u001b[0;36m<module>\u001b[1;34m\u001b[0m\n\u001b[0;32m      1\u001b[0m \u001b[1;31m#a=3\u001b[0m\u001b[1;33m\u001b[0m\u001b[1;33m\u001b[0m\u001b[1;33m\u001b[0m\u001b[0m\n\u001b[1;32m----> 2\u001b[1;33m \u001b[0mprint\u001b[0m\u001b[1;33m(\u001b[0m\u001b[0ma\u001b[0m\u001b[1;33m)\u001b[0m\u001b[1;33m\u001b[0m\u001b[1;33m\u001b[0m\u001b[0m\n\u001b[0m",
      "\u001b[1;31mNameError\u001b[0m: name 'a' is not defined"
     ]
    }
   ],
   "source": [
    "#a=3\n",
    "print(a)"
   ]
  },
  {
   "cell_type": "markdown",
   "metadata": {},
   "source": [
    "Here varaible a is created after typing # everything after # are ignored by python interpretener so there is no variable a actually created \n",
    "<p>so it wont print a as it is not created and shows name error</p>\n",
    "What Im saying is if you dont want some line of code just comment it out instaed of actually deleting it\n"
   ]
  },
  {
   "cell_type": "code",
   "execution_count": 2,
   "metadata": {},
   "outputs": [
    {
     "name": "stdout",
     "output_type": "stream",
     "text": [
      "3\n"
     ]
    }
   ],
   "source": [
    "a=3\n",
    "print(a)"
   ]
  },
  {
   "cell_type": "code",
   "execution_count": 3,
   "metadata": {},
   "outputs": [],
   "source": [
    "#see it now works right 😂😁"
   ]
  },
  {
   "cell_type": "code",
   "execution_count": 4,
   "metadata": {},
   "outputs": [],
   "source": [
    "a=4 #changed the value of a with 4\n",
    "#this is how a comment is written to know what relly happening in the code just after the statement or in seperate line"
   ]
  },
  {
   "cell_type": "code",
   "execution_count": 5,
   "metadata": {},
   "outputs": [
    {
     "name": "stdout",
     "output_type": "stream",
     "text": [
      "4\n"
     ]
    }
   ],
   "source": [
    "print(a)"
   ]
  },
  {
   "cell_type": "markdown",
   "metadata": {},
   "source": [
    "<h3>OK FINE LETS COM[PLETE OPERATORS STUFF</h3>"
   ]
  },
  {
   "cell_type": "code",
   "execution_count": 6,
   "metadata": {},
   "outputs": [
    {
     "name": "stdout",
     "output_type": "stream",
     "text": [
      "3\n"
     ]
    }
   ],
   "source": [
    "#assignments operators\n",
    "#First Operator is '=' \n",
    "a=3  \n",
    "b=a #the value of a is stored in b\n",
    "print(b)"
   ]
  },
  {
   "cell_type": "code",
   "execution_count": 14,
   "metadata": {},
   "outputs": [
    {
     "name": "stdout",
     "output_type": "stream",
     "text": [
      "5\n"
     ]
    }
   ],
   "source": [
    "#next operator is '+='\n",
    "#example a+=b is equaivalent to a=a+b\n",
    "a=3\n",
    "b=2\n",
    "a=a+b #dont look left variable .. just check in the right side well a+b is computed first and then stored in a using '='\n",
    "print(a) #value of a now is 3+2=5\n"
   ]
  },
  {
   "cell_type": "code",
   "execution_count": 15,
   "metadata": {},
   "outputs": [
    {
     "name": "stdout",
     "output_type": "stream",
     "text": [
      "5\n"
     ]
    }
   ],
   "source": [
    "a=3\n",
    "b=2\n",
    "a+=b #same as a=a+b \n",
    "print(a) #value of a now is 3+2=5"
   ]
  },
  {
   "cell_type": "code",
   "execution_count": 16,
   "metadata": {},
   "outputs": [
    {
     "name": "stdout",
     "output_type": "stream",
     "text": [
      "a+b before: 5\n",
      "the value of a is changed\n",
      "a+b after: 7\n"
     ]
    }
   ],
   "source": [
    "#the value of the variables changes so dont forget where you changed a variable data and what is stored\n",
    "a=3\n",
    "b=2\n",
    "print(\"a+b before:\",a+b) #it will print 5\n",
    "a+=b #value of a is changed to 5\n",
    "print(\"the value of a is changed\")\n",
    "print(\"a+b after:\",a+b) #now a+b is not 3 anymore as the data change i.e., a is changed from 3 to 5 so output is a+b=5+2=7"
   ]
  },
  {
   "cell_type": "code",
   "execution_count": 17,
   "metadata": {},
   "outputs": [],
   "source": [
    "#not just a+=b you can change anything like b+=b it just adds (b=b+b) b with b store back in b\n",
    "#you can do it using all operators\n"
   ]
  },
  {
   "cell_type": "code",
   "execution_count": 24,
   "metadata": {},
   "outputs": [
    {
     "name": "stdout",
     "output_type": "stream",
     "text": [
      "2\n",
      "4\n",
      "2\n",
      "1.0\n",
      "2\n"
     ]
    }
   ],
   "source": [
    "a=4\n",
    "b=2\n",
    "a-=b #same as a=a-b a-b is 2 and then using = it assings right side value 2 to a\n",
    "print(a)\n",
    "a*=b #same as a=a*b\n",
    "print(a)\n",
    "a//=b\n",
    "print(a)\n",
    "a/=b\n",
    "print(a)\n",
    "b%=b+5 #same as b=b%(b+5) i.e.,b=2%(2+5) is b=2%7=2\n",
    "print(b)"
   ]
  },
  {
   "cell_type": "markdown",
   "metadata": {},
   "source": [
    "<h2>Logical Operators</h2>"
   ]
  },
  {
   "cell_type": "code",
   "execution_count": 27,
   "metadata": {},
   "outputs": [
    {
     "name": "stdout",
     "output_type": "stream",
     "text": [
      "AND LOGIC\n",
      "a and a= True\n",
      "a and b= False\n",
      "b and a= False\n",
      "b and b= False\n"
     ]
    }
   ],
   "source": [
    "#first operator and\n",
    "#a variable can be boolean\n",
    "a=True\n",
    "b=False\n",
    "print('AND LOGIC') #if one false everthing is false\n",
    "print('a and a=',a and a) #true and true is true\n",
    "print('a and b=',a and b) #true and false is false\n",
    "print('b and a=',b and a) #false and true is false\n",
    "print('b and b=',b and b) #false and false is false"
   ]
  },
  {
   "cell_type": "code",
   "execution_count": 28,
   "metadata": {},
   "outputs": [
    {
     "name": "stdout",
     "output_type": "stream",
     "text": [
      "OR LOGIC\n",
      "a or a= True\n",
      "a or b= True\n",
      "b or a= True\n",
      "b or b= False\n"
     ]
    }
   ],
   "source": [
    "print('OR LOGIC') #if any of it has true returns true\n",
    "print('a or a=',a or a) #true or true is true\n",
    "print('a or b=',a or b) #true or false is true\n",
    "print('b or a=',b or a) #false or true is true\n",
    "print('b or b=',b or b) #false or false is false"
   ]
  },
  {
   "cell_type": "code",
   "execution_count": 30,
   "metadata": {},
   "outputs": [
    {
     "name": "stdout",
     "output_type": "stream",
     "text": [
      "NOT LOGIC\n",
      "NOT a False\n",
      "NOT NOT a True\n"
     ]
    }
   ],
   "source": [
    "print('NOT LOGIC')\n",
    "print('NOT a',not a)# a is true so not a is false\n",
    "print('NOT NOT a',not not a) #not a is false not not a is true (double not)"
   ]
  },
  {
   "cell_type": "markdown",
   "metadata": {},
   "source": [
    "<h1 style='color:yellowgreen'>Rules for Valid Variable Names</h1><br>\n",
    "<b><pre>-->Variable names can be as long or as short as you like, but there are afew rules that you must follow. \n",
    "   Variable names may contain upper-case and lowercase letters (A–Z, a–z), digits (0–9), and underscores(_),\n",
    "   but they cannot begin with a digit.</pre></b>\n",
    "<pre>--><b>For example:</b>\n",
    "  <pre style='color:teal'>Each of the following is a valid Python variable name:\n",
    " • string1\n",
    " • _a1p4a\n",
    " • list_of_names<br>\n",
    "The following aren’t valid variable names because they start with a digit:\n",
    "• 9lives\n",
    "• 99_balloons\n",
    "• 2beOrNot2Be\n",
    "\n",
    "<b>-->In addition to English letters and digits, Python variable names may\n",
    "contain many different valid Unicode characters.<b></pre></pre>"
   ]
  },
  {
   "cell_type": "markdown",
   "metadata": {},
   "source": [
    "<h2 style=\"color:seagreen\">Descriptive Names Are Better Than Short Names</h2><br>\n",
    "<h3><pre style=\"color:firebrick\">  •Descriptive variable names are essential, especially for complex programs. \n",
    "  •Writing descriptive names often requires using multiple words.\n",
    "  •Don’t be afraid to use long variable names.</pre></h3>"
   ]
  },
  {
   "cell_type": "markdown",
   "metadata": {},
   "source": [
    "In the following example, the value 3600 is assigned to the variable s:"
   ]
  },
  {
   "cell_type": "code",
   "execution_count": 31,
   "metadata": {},
   "outputs": [],
   "source": [
    "s=3600"
   ]
  },
  {
   "cell_type": "markdown",
   "metadata": {},
   "source": [
    "The name s is totally ambiguous. Using a full word makes it a lot easier\n",
    "to understand what the code means:"
   ]
  },
  {
   "cell_type": "code",
   "execution_count": 32,
   "metadata": {},
   "outputs": [],
   "source": [
    "seconds=3600"
   ]
  },
  {
   "cell_type": "markdown",
   "metadata": {},
   "source": [
    "<pre><h3><i style=\"color:coral\">seconds</i> is a better name than s because it provides more context. But\n",
    "it still doesn’t convey the full meaning of the code. Is 3600 the number\n",
    "of seconds it takes for a process to finish, or is it the length of a movie?\n",
    "There’s no way to tell.</h3></pre>"
   ]
  },
  {
   "cell_type": "markdown",
   "metadata": {},
   "source": [
    "The following name leaves no doubt about what the code means:"
   ]
  },
  {
   "cell_type": "code",
   "execution_count": 33,
   "metadata": {},
   "outputs": [],
   "source": [
    "seconds_per_hour = 3600"
   ]
  },
  {
   "cell_type": "markdown",
   "metadata": {},
   "source": [
    "<pre><b>•When you read the above code, there’s no question that 3600 is the number of seconds in an hour.\n",
    "•seconds_per_hour takes longer to type than both the single letter s and the word seconds, \n",
    " but the payoff in clarity is massive.\n",
    "•Although naming variables descriptively means using longer variable names,\n",
    " you should avoid using excessively long names.\n",
    "•A good rule of thumb is to limit variable names to three or four words maximum.</b></pre>"
   ]
  },
  {
   "cell_type": "markdown",
   "metadata": {},
   "source": [
    "<h1 style=\"color:navy\">End Of Day2</h1>\n",
    "<h3><pre style=\"color:darkgreen;\">          ---- D GIREESH @dg <pre></h3>"
   ]
  },
  {
   "cell_type": "code",
   "execution_count": 35,
   "metadata": {},
   "outputs": [],
   "source": [
    "#next topic is data types 😜😉"
   ]
  },
  {
   "cell_type": "code",
   "execution_count": null,
   "metadata": {},
   "outputs": [],
   "source": []
  }
 ],
 "metadata": {
  "kernelspec": {
   "display_name": "Python 3",
   "language": "python",
   "name": "python3"
  },
  "language_info": {
   "codemirror_mode": {
    "name": "ipython",
    "version": 3
   },
   "file_extension": ".py",
   "mimetype": "text/x-python",
   "name": "python",
   "nbconvert_exporter": "python",
   "pygments_lexer": "ipython3",
   "version": "3.8.5"
  }
 },
 "nbformat": 4,
 "nbformat_minor": 4
}
